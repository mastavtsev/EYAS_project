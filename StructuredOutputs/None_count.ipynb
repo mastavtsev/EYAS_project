{
 "cells": [
  {
   "cell_type": "code",
   "execution_count": 2,
   "id": "10c9de97-df05-4b7b-852a-641d93df0c5a",
   "metadata": {
    "execution": {
     "iopub.execute_input": "2025-02-26T14:46:22.885266Z",
     "iopub.status.busy": "2025-02-26T14:46:22.884171Z",
     "iopub.status.idle": "2025-02-26T14:46:22.958270Z",
     "shell.execute_reply": "2025-02-26T14:46:22.957444Z",
     "shell.execute_reply.started": "2025-02-26T14:46:22.885219Z"
    },
    "tags": []
   },
   "outputs": [],
   "source": [
    "import pandas as pd\n",
    "import numpy as np"
   ]
  },
  {
   "cell_type": "code",
   "execution_count": 39,
   "id": "ab5ac815-35e8-46b9-960f-e1bccd99077a",
   "metadata": {
    "execution": {
     "iopub.execute_input": "2024-12-04T08:12:10.018260Z",
     "iopub.status.busy": "2024-12-04T08:12:10.017124Z",
     "iopub.status.idle": "2024-12-04T08:12:10.072526Z",
     "shell.execute_reply": "2024-12-04T08:12:10.071795Z",
     "shell.execute_reply.started": "2024-12-04T08:12:10.018215Z"
    },
    "tags": []
   },
   "outputs": [
    {
     "data": {
      "text/html": [
       "<div>\n",
       "<style scoped>\n",
       "    .dataframe tbody tr th:only-of-type {\n",
       "        vertical-align: middle;\n",
       "    }\n",
       "\n",
       "    .dataframe tbody tr th {\n",
       "        vertical-align: top;\n",
       "    }\n",
       "\n",
       "    .dataframe thead th {\n",
       "        text-align: right;\n",
       "    }\n",
       "</style>\n",
       "<table border=\"1\" class=\"dataframe\">\n",
       "  <thead>\n",
       "    <tr style=\"text-align: right;\">\n",
       "      <th></th>\n",
       "      <th>is_valid</th>\n",
       "      <th>od_color</th>\n",
       "      <th>od_monotone</th>\n",
       "      <th>od_size</th>\n",
       "      <th>od_shape</th>\n",
       "      <th>od_border</th>\n",
       "      <th>od_excavation_size</th>\n",
       "      <th>od_excavation_location</th>\n",
       "      <th>od_excavation_ratio</th>\n",
       "      <th>od_vessels_location</th>\n",
       "      <th>od_pathology</th>\n",
       "      <th>vessels_art_course</th>\n",
       "      <th>vessels_art_turtuosity</th>\n",
       "      <th>vessels_art_bifurcation</th>\n",
       "      <th>vessels_art_caliber</th>\n",
       "      <th>vessels_vein_course</th>\n",
       "      <th>vessels_vein_turtuosity</th>\n",
       "      <th>vessels_vein_bifurcation</th>\n",
       "      <th>vessels_vein_caliber</th>\n",
       "      <th>vessels_ratio</th>\n",
       "      <th>vessels_pathology</th>\n",
       "      <th>macula_macular_reflex</th>\n",
       "      <th>macula_foveal_reflex</th>\n",
       "      <th>macula_pathology</th>\n",
       "      <th>peripheral_pathology</th>\n",
       "      <th>other_diagnosis</th>\n",
       "      <th>other_notes</th>\n",
       "      <th>text</th>\n",
       "    </tr>\n",
       "  </thead>\n",
       "  <tbody>\n",
       "    <tr>\n",
       "      <th>0</th>\n",
       "      <td>True</td>\n",
       "      <td>бледно-розовый</td>\n",
       "      <td>NaN</td>\n",
       "      <td>NaN</td>\n",
       "      <td>NaN</td>\n",
       "      <td>четкие</td>\n",
       "      <td>NaN</td>\n",
       "      <td>NaN</td>\n",
       "      <td>NaN</td>\n",
       "      <td>NaN</td>\n",
       "      <td>NaN</td>\n",
       "      <td>нормальное</td>\n",
       "      <td>нормальная</td>\n",
       "      <td>NaN</td>\n",
       "      <td>нормальный</td>\n",
       "      <td>NaN</td>\n",
       "      <td>NaN</td>\n",
       "      <td>NaN</td>\n",
       "      <td>нормальный</td>\n",
       "      <td>NaN</td>\n",
       "      <td>NaN</td>\n",
       "      <td>четкий</td>\n",
       "      <td>NaN</td>\n",
       "      <td>слегка гиперпигментирована</td>\n",
       "      <td>участки разряжения пигмента</td>\n",
       "      <td>альбинотическое глазное дно</td>\n",
       "      <td>NaN</td>\n",
       "      <td>ДЗН бледно-розовый, границы четкие, ход и кали...</td>\n",
       "    </tr>\n",
       "    <tr>\n",
       "      <th>1</th>\n",
       "      <td>True</td>\n",
       "      <td>/Events</td>\n",
       "      <td>/Events</td>\n",
       "      <td>/Events</td>\n",
       "      <td>/Events</td>\n",
       "      <td>размытые</td>\n",
       "      <td>NaN</td>\n",
       "      <td>NaN</td>\n",
       "      <td>NaN</td>\n",
       "      <td>NaN</td>\n",
       "      <td>/Events</td>\n",
       "      <td>растянутые</td>\n",
       "      <td>расширенные</td>\n",
       "      <td>/Events</td>\n",
       "      <td>NaN</td>\n",
       "      <td>norman</td>\n",
       "      <td>expanded</td>\n",
       "      <td>none</td>\n",
       "      <td>NaN</td>\n",
       "      <td>NaN</td>\n",
       "      <td>MistVenin Varie rise&gt;: отличистрерство</td>\n",
       "      <td>ums</td>\n",
       "      <td>/Refle</td>\n",
       "      <td>NaN</td>\n",
       "      <td>Normative!</td>\n",
       "      <td>Donfuraxe</td>\n",
       "      <td>Sons</td>\n",
       "      <td>За флером: границы ДЗН нечеткие, сосуды расшир...</td>\n",
       "    </tr>\n",
       "    <tr>\n",
       "      <th>2</th>\n",
       "      <td>True</td>\n",
       "      <td>бледно-розовый</td>\n",
       "      <td>NaN</td>\n",
       "      <td>NaN</td>\n",
       "      <td>NaN</td>\n",
       "      <td>четкие</td>\n",
       "      <td>NaN</td>\n",
       "      <td>NaN</td>\n",
       "      <td>NaN</td>\n",
       "      <td>NaN</td>\n",
       "      <td>NaN</td>\n",
       "      <td>NaN</td>\n",
       "      <td>NaN</td>\n",
       "      <td>NaN</td>\n",
       "      <td>не изменен</td>\n",
       "      <td>NaN</td>\n",
       "      <td>NaN</td>\n",
       "      <td>NaN</td>\n",
       "      <td>не изменен</td>\n",
       "      <td>NaN</td>\n",
       "      <td>NaN</td>\n",
       "      <td>ровный</td>\n",
       "      <td>NaN</td>\n",
       "      <td>NaN</td>\n",
       "      <td>без патологии</td>\n",
       "      <td>NaN</td>\n",
       "      <td>NaN</td>\n",
       "      <td>ДЗН бледно-розовый, с четкими границами, ход и...</td>\n",
       "    </tr>\n",
       "    <tr>\n",
       "      <th>3</th>\n",
       "      <td>True</td>\n",
       "      <td>бледно-розовый</td>\n",
       "      <td>NaN</td>\n",
       "      <td>NaN</td>\n",
       "      <td>NaN</td>\n",
       "      <td>четкие</td>\n",
       "      <td>NaN</td>\n",
       "      <td>NaN</td>\n",
       "      <td>NaN</td>\n",
       "      <td>в височную сторону</td>\n",
       "      <td>NaN</td>\n",
       "      <td>NaN</td>\n",
       "      <td>несколько извиты</td>\n",
       "      <td>NaN</td>\n",
       "      <td>сужены</td>\n",
       "      <td>NaN</td>\n",
       "      <td>несколько извиты</td>\n",
       "      <td>NaN</td>\n",
       "      <td>NaN</td>\n",
       "      <td>NaN</td>\n",
       "      <td>NaN</td>\n",
       "      <td>сглажены</td>\n",
       "      <td>NaN</td>\n",
       "      <td>NaN</td>\n",
       "      <td>аваскулярная зона, локальная отслойка сетчатки...</td>\n",
       "      <td>NaN</td>\n",
       "      <td>NaN</td>\n",
       "      <td>ДЗН бледно-розовый, границы четкие, артерии не...</td>\n",
       "    </tr>\n",
       "    <tr>\n",
       "      <th>4</th>\n",
       "      <td>True</td>\n",
       "      <td>бледный</td>\n",
       "      <td>NaN</td>\n",
       "      <td>гипопластичен</td>\n",
       "      <td>NaN</td>\n",
       "      <td>NaN</td>\n",
       "      <td>NaN</td>\n",
       "      <td>NaN</td>\n",
       "      <td>NaN</td>\n",
       "      <td>NaN</td>\n",
       "      <td>Диск зрительного нерва деформирован тракционно...</td>\n",
       "      <td>NaN</td>\n",
       "      <td>NaN</td>\n",
       "      <td>NaN</td>\n",
       "      <td>NaN</td>\n",
       "      <td>NaN</td>\n",
       "      <td>NaN</td>\n",
       "      <td>NaN</td>\n",
       "      <td>NaN</td>\n",
       "      <td>NaN</td>\n",
       "      <td>NaN</td>\n",
       "      <td>NaN</td>\n",
       "      <td>NaN</td>\n",
       "      <td>NaN</td>\n",
       "      <td>Описывается аваскулярная сетчатка с перераспре...</td>\n",
       "      <td>NaN</td>\n",
       "      <td>NaN</td>\n",
       "      <td>ДЗН бледный, гипопластичен, тракционно деформи...</td>\n",
       "    </tr>\n",
       "  </tbody>\n",
       "</table>\n",
       "</div>"
      ],
      "text/plain": [
       "   is_valid  ...                                               text\n",
       "0      True  ...  ДЗН бледно-розовый, границы четкие, ход и кали...\n",
       "1      True  ...  За флером: границы ДЗН нечеткие, сосуды расшир...\n",
       "2      True  ...  ДЗН бледно-розовый, с четкими границами, ход и...\n",
       "3      True  ...  ДЗН бледно-розовый, границы четкие, артерии не...\n",
       "4      True  ...  ДЗН бледный, гипопластичен, тракционно деформи...\n",
       "\n",
       "[5 rows x 28 columns]"
      ]
     },
     "execution_count": 39,
     "metadata": {},
     "output_type": "execute_result"
    }
   ],
   "source": [
    "df_none = pd.read_csv('/home/jupyter/datasphere/project/df_none.csv')\n",
    "df_none.head()"
   ]
  },
  {
   "cell_type": "code",
   "execution_count": 40,
   "id": "516114e4-988a-4452-bc97-4c9b2d66a974",
   "metadata": {
    "execution": {
     "iopub.execute_input": "2024-12-04T08:12:12.530108Z",
     "iopub.status.busy": "2024-12-04T08:12:12.529160Z",
     "iopub.status.idle": "2024-12-04T08:12:12.542821Z",
     "shell.execute_reply": "2024-12-04T08:12:12.542135Z",
     "shell.execute_reply.started": "2024-12-04T08:12:12.530066Z"
    },
    "tags": []
   },
   "outputs": [],
   "source": [
    "df_none = df_none[df_none['is_valid']==True]\n",
    "df_none = df_none.drop(columns=['is_valid', 'text'])"
   ]
  },
  {
   "cell_type": "code",
   "execution_count": 41,
   "id": "3cde3cf8-d359-4f3e-a266-07eb23349e35",
   "metadata": {
    "execution": {
     "iopub.execute_input": "2024-12-04T08:12:18.817987Z",
     "iopub.status.busy": "2024-12-04T08:12:18.817375Z",
     "iopub.status.idle": "2024-12-04T08:12:18.832424Z",
     "shell.execute_reply": "2024-12-04T08:12:18.831698Z",
     "shell.execute_reply.started": "2024-12-04T08:12:18.817948Z"
    },
    "tags": []
   },
   "outputs": [
    {
     "data": {
      "text/plain": [
       "7.530183727034121"
      ]
     },
     "execution_count": 41,
     "metadata": {},
     "output_type": "execute_result"
    }
   ],
   "source": [
    "np.mean(df_none.count(axis=1))"
   ]
  },
  {
   "cell_type": "code",
   "execution_count": 42,
   "id": "e05cc1fc-6b79-4543-b9dd-fd77c3a4d3b2",
   "metadata": {
    "execution": {
     "iopub.execute_input": "2024-12-04T08:12:23.300720Z",
     "iopub.status.busy": "2024-12-04T08:12:23.299811Z",
     "iopub.status.idle": "2024-12-04T08:12:23.313144Z",
     "shell.execute_reply": "2024-12-04T08:12:23.312416Z",
     "shell.execute_reply.started": "2024-12-04T08:12:23.300690Z"
    },
    "tags": []
   },
   "outputs": [
    {
     "data": {
      "text/plain": [
       "(762, 26)"
      ]
     },
     "execution_count": 42,
     "metadata": {},
     "output_type": "execute_result"
    }
   ],
   "source": [
    "df_none.shape"
   ]
  },
  {
   "cell_type": "code",
   "execution_count": 43,
   "id": "25b70880-729b-4b85-b543-82b595c02a58",
   "metadata": {
    "execution": {
     "iopub.execute_input": "2024-12-04T08:12:30.456670Z",
     "iopub.status.busy": "2024-12-04T08:12:30.455707Z",
     "iopub.status.idle": "2024-12-04T08:12:30.505162Z",
     "shell.execute_reply": "2024-12-04T08:12:30.504377Z",
     "shell.execute_reply.started": "2024-12-04T08:12:30.456639Z"
    },
    "tags": []
   },
   "outputs": [
    {
     "data": {
      "text/plain": [
       "od_color                    0.95\n",
       "od_border                   0.90\n",
       "peripheral_pathology        0.78\n",
       "vessels_art_caliber         0.57\n",
       "vessels_vein_caliber        0.45\n",
       "macula_macular_reflex       0.44\n",
       "macula_pathology            0.41\n",
       "vessels_art_turtuosity      0.37\n",
       "vessels_art_course          0.35\n",
       "vessels_vein_turtuosity     0.35\n",
       "vessels_vein_course         0.31\n",
       "od_pathology                0.30\n",
       "od_monotone                 0.22\n",
       "macula_foveal_reflex        0.19\n",
       "od_vessels_location         0.15\n",
       "vessels_pathology           0.12\n",
       "other_notes                 0.11\n",
       "vessels_art_bifurcation     0.11\n",
       "vessels_vein_bifurcation    0.10\n",
       "od_size                     0.07\n",
       "od_shape                    0.05\n",
       "other_diagnosis             0.05\n",
       "od_excavation_size          0.05\n",
       "od_excavation_location      0.04\n",
       "vessels_ratio               0.03\n",
       "od_excavation_ratio         0.03\n",
       "dtype: float64"
      ]
     },
     "execution_count": 43,
     "metadata": {},
     "output_type": "execute_result"
    }
   ],
   "source": [
    "np.round((df_none.count() / df_none.shape[0]).sort_values(ascending=False), 2)"
   ]
  },
  {
   "cell_type": "code",
   "execution_count": 44,
   "id": "20b3fd7a-873e-4272-8688-f436e8f12ce2",
   "metadata": {
    "execution": {
     "iopub.execute_input": "2024-12-04T08:12:36.782835Z",
     "iopub.status.busy": "2024-12-04T08:12:36.781916Z",
     "iopub.status.idle": "2024-12-04T08:12:36.809164Z",
     "shell.execute_reply": "2024-12-04T08:12:36.808433Z",
     "shell.execute_reply.started": "2024-12-04T08:12:36.782794Z"
    },
    "tags": []
   },
   "outputs": [],
   "source": [
    "df_none_x_potology = df_none.drop(columns=['vessels_pathology', 'od_pathology', 'macula_pathology', 'peripheral_pathology', 'other_diagnosis', 'other_notes'],)"
   ]
  },
  {
   "cell_type": "code",
   "execution_count": 45,
   "id": "38bd0fc0-7d45-47c5-97ba-33a97ae91bcb",
   "metadata": {
    "execution": {
     "iopub.execute_input": "2024-12-04T08:12:37.275588Z",
     "iopub.status.busy": "2024-12-04T08:12:37.274529Z",
     "iopub.status.idle": "2024-12-04T08:12:37.301334Z",
     "shell.execute_reply": "2024-12-04T08:12:37.300465Z",
     "shell.execute_reply.started": "2024-12-04T08:12:37.275555Z"
    },
    "tags": []
   },
   "outputs": [
    {
     "data": {
      "text/plain": [
       "5.745406824146982"
      ]
     },
     "execution_count": 45,
     "metadata": {},
     "output_type": "execute_result"
    }
   ],
   "source": [
    "np.mean(df_none_x_potology.count(axis=1))"
   ]
  },
  {
   "cell_type": "code",
   "execution_count": 47,
   "id": "e2fe0205-d4e8-424a-a2b1-6c7f3e2af94f",
   "metadata": {
    "execution": {
     "iopub.execute_input": "2024-12-04T08:12:45.286735Z",
     "iopub.status.busy": "2024-12-04T08:12:45.285812Z",
     "iopub.status.idle": "2024-12-04T08:12:45.321439Z",
     "shell.execute_reply": "2024-12-04T08:12:45.320555Z",
     "shell.execute_reply.started": "2024-12-04T08:12:45.286695Z"
    },
    "tags": []
   },
   "outputs": [
    {
     "data": {
      "text/plain": [
       "od_color                    0.95\n",
       "od_border                   0.90\n",
       "vessels_art_caliber         0.57\n",
       "vessels_vein_caliber        0.45\n",
       "macula_macular_reflex       0.44\n",
       "vessels_art_turtuosity      0.37\n",
       "vessels_art_course          0.35\n",
       "vessels_vein_turtuosity     0.35\n",
       "vessels_vein_course         0.31\n",
       "od_monotone                 0.22\n",
       "macula_foveal_reflex        0.19\n",
       "od_vessels_location         0.15\n",
       "vessels_art_bifurcation     0.11\n",
       "vessels_vein_bifurcation    0.10\n",
       "od_size                     0.07\n",
       "od_shape                    0.05\n",
       "od_excavation_size          0.05\n",
       "od_excavation_location      0.04\n",
       "vessels_ratio               0.03\n",
       "od_excavation_ratio         0.03\n",
       "dtype: float64"
      ]
     },
     "execution_count": 47,
     "metadata": {},
     "output_type": "execute_result"
    }
   ],
   "source": [
    "np.round((df_none_x_potology.count() / df_none.shape[0]).sort_values(ascending=False), 2)"
   ]
  },
  {
   "cell_type": "code",
   "execution_count": 30,
   "id": "c9cd1de4-fbb4-4cbb-a964-6e1e3ec86124",
   "metadata": {
    "execution": {
     "iopub.execute_input": "2024-12-04T08:03:08.393734Z",
     "iopub.status.busy": "2024-12-04T08:03:08.392672Z",
     "iopub.status.idle": "2024-12-04T08:03:08.404174Z",
     "shell.execute_reply": "2024-12-04T08:03:08.403524Z",
     "shell.execute_reply.started": "2024-12-04T08:03:08.393696Z"
    },
    "tags": []
   },
   "outputs": [],
   "source": [
    "# for column in df_none_x_potology.columns:\n",
    "#     display(df_none_x_potology[column].value_counts())\n",
    "#     print('='*150)"
   ]
  },
  {
   "cell_type": "code",
   "execution_count": null,
   "id": "5c9d4e90-a36a-4984-aef7-7e15665ef953",
   "metadata": {},
   "outputs": [],
   "source": []
  },
  {
   "cell_type": "code",
   "execution_count": 3,
   "id": "b293319d-40c2-47b1-9d47-62c9fa209b00",
   "metadata": {
    "execution": {
     "iopub.execute_input": "2025-02-26T14:46:29.338748Z",
     "iopub.status.busy": "2025-02-26T14:46:29.337578Z",
     "iopub.status.idle": "2025-02-26T14:46:29.452185Z",
     "shell.execute_reply": "2025-02-26T14:46:29.451264Z",
     "shell.execute_reply.started": "2025-02-26T14:46:29.338708Z"
    },
    "tags": []
   },
   "outputs": [
    {
     "data": {
      "text/html": [
       "<div>\n",
       "<style scoped>\n",
       "    .dataframe tbody tr th:only-of-type {\n",
       "        vertical-align: middle;\n",
       "    }\n",
       "\n",
       "    .dataframe tbody tr th {\n",
       "        vertical-align: top;\n",
       "    }\n",
       "\n",
       "    .dataframe thead th {\n",
       "        text-align: right;\n",
       "    }\n",
       "</style>\n",
       "<table border=\"1\" class=\"dataframe\">\n",
       "  <thead>\n",
       "    <tr style=\"text-align: right;\">\n",
       "      <th></th>\n",
       "      <th>is_valid</th>\n",
       "      <th>od_color</th>\n",
       "      <th>od_monotone</th>\n",
       "      <th>od_size</th>\n",
       "      <th>od_shape</th>\n",
       "      <th>od_border</th>\n",
       "      <th>od_excavation_size</th>\n",
       "      <th>od_excavation_location</th>\n",
       "      <th>od_excavation_ratio</th>\n",
       "      <th>od_vessels_location</th>\n",
       "      <th>od_pathology</th>\n",
       "      <th>vessels_art_course</th>\n",
       "      <th>vessels_art_turtuosity</th>\n",
       "      <th>vessels_art_bifurcation</th>\n",
       "      <th>vessels_art_caliber</th>\n",
       "      <th>vessels_vein_course</th>\n",
       "      <th>vessels_vein_turtuosity</th>\n",
       "      <th>vessels_vein_bifurcation</th>\n",
       "      <th>vessels_vein_caliber</th>\n",
       "      <th>vessels_ratio</th>\n",
       "      <th>vessels_pathology</th>\n",
       "      <th>macula_macular_reflex</th>\n",
       "      <th>macula_foveal_reflex</th>\n",
       "      <th>macula_pathology</th>\n",
       "      <th>peripheral_pathology</th>\n",
       "      <th>other_diagnosis</th>\n",
       "      <th>other_notes</th>\n",
       "      <th>text</th>\n",
       "    </tr>\n",
       "  </thead>\n",
       "  <tbody>\n",
       "    <tr>\n",
       "      <th>0</th>\n",
       "      <td>True</td>\n",
       "      <td>бледно-розовый</td>\n",
       "      <td>NaN</td>\n",
       "      <td>NaN</td>\n",
       "      <td>NaN</td>\n",
       "      <td>четкие</td>\n",
       "      <td>NaN</td>\n",
       "      <td>NaN</td>\n",
       "      <td>NaN</td>\n",
       "      <td>NaN</td>\n",
       "      <td>NaN</td>\n",
       "      <td>нормальное</td>\n",
       "      <td>нормальная</td>\n",
       "      <td>NaN</td>\n",
       "      <td>нормальный</td>\n",
       "      <td>NaN</td>\n",
       "      <td>NaN</td>\n",
       "      <td>NaN</td>\n",
       "      <td>нормальный</td>\n",
       "      <td>NaN</td>\n",
       "      <td>NaN</td>\n",
       "      <td>четкий</td>\n",
       "      <td>NaN</td>\n",
       "      <td>слегка гиперпигментирована</td>\n",
       "      <td>участки разряжения пигмента</td>\n",
       "      <td>альбинотическое глазное дно</td>\n",
       "      <td>NaN</td>\n",
       "      <td>ДЗН бледно-розовый, границы четкие, ход и кали...</td>\n",
       "    </tr>\n",
       "    <tr>\n",
       "      <th>1</th>\n",
       "      <td>True</td>\n",
       "      <td>/Events</td>\n",
       "      <td>/Events</td>\n",
       "      <td>/Events</td>\n",
       "      <td>/Events</td>\n",
       "      <td>размытые</td>\n",
       "      <td>NaN</td>\n",
       "      <td>NaN</td>\n",
       "      <td>NaN</td>\n",
       "      <td>NaN</td>\n",
       "      <td>/Events</td>\n",
       "      <td>растянутые</td>\n",
       "      <td>расширенные</td>\n",
       "      <td>/Events</td>\n",
       "      <td>NaN</td>\n",
       "      <td>norman</td>\n",
       "      <td>expanded</td>\n",
       "      <td>none</td>\n",
       "      <td>NaN</td>\n",
       "      <td>NaN</td>\n",
       "      <td>MistVenin Varie rise&gt;: отличистрерство</td>\n",
       "      <td>ums</td>\n",
       "      <td>/Refle</td>\n",
       "      <td>NaN</td>\n",
       "      <td>Normative!</td>\n",
       "      <td>Donfuraxe</td>\n",
       "      <td>Sons</td>\n",
       "      <td>За флером: границы ДЗН нечеткие, сосуды расшир...</td>\n",
       "    </tr>\n",
       "    <tr>\n",
       "      <th>2</th>\n",
       "      <td>True</td>\n",
       "      <td>бледно-розовый</td>\n",
       "      <td>NaN</td>\n",
       "      <td>NaN</td>\n",
       "      <td>NaN</td>\n",
       "      <td>четкие</td>\n",
       "      <td>NaN</td>\n",
       "      <td>NaN</td>\n",
       "      <td>NaN</td>\n",
       "      <td>NaN</td>\n",
       "      <td>NaN</td>\n",
       "      <td>NaN</td>\n",
       "      <td>NaN</td>\n",
       "      <td>NaN</td>\n",
       "      <td>не изменен</td>\n",
       "      <td>NaN</td>\n",
       "      <td>NaN</td>\n",
       "      <td>NaN</td>\n",
       "      <td>не изменен</td>\n",
       "      <td>NaN</td>\n",
       "      <td>NaN</td>\n",
       "      <td>ровный</td>\n",
       "      <td>NaN</td>\n",
       "      <td>NaN</td>\n",
       "      <td>без патологии</td>\n",
       "      <td>NaN</td>\n",
       "      <td>NaN</td>\n",
       "      <td>ДЗН бледно-розовый, с четкими границами, ход и...</td>\n",
       "    </tr>\n",
       "    <tr>\n",
       "      <th>3</th>\n",
       "      <td>True</td>\n",
       "      <td>бледно-розовый</td>\n",
       "      <td>NaN</td>\n",
       "      <td>NaN</td>\n",
       "      <td>NaN</td>\n",
       "      <td>четкие</td>\n",
       "      <td>NaN</td>\n",
       "      <td>NaN</td>\n",
       "      <td>NaN</td>\n",
       "      <td>в височную сторону</td>\n",
       "      <td>NaN</td>\n",
       "      <td>NaN</td>\n",
       "      <td>несколько извиты</td>\n",
       "      <td>NaN</td>\n",
       "      <td>сужены</td>\n",
       "      <td>NaN</td>\n",
       "      <td>несколько извиты</td>\n",
       "      <td>NaN</td>\n",
       "      <td>NaN</td>\n",
       "      <td>NaN</td>\n",
       "      <td>NaN</td>\n",
       "      <td>сглажены</td>\n",
       "      <td>NaN</td>\n",
       "      <td>NaN</td>\n",
       "      <td>аваскулярная зона, локальная отслойка сетчатки...</td>\n",
       "      <td>NaN</td>\n",
       "      <td>NaN</td>\n",
       "      <td>ДЗН бледно-розовый, границы четкие, артерии не...</td>\n",
       "    </tr>\n",
       "    <tr>\n",
       "      <th>4</th>\n",
       "      <td>True</td>\n",
       "      <td>бледный</td>\n",
       "      <td>NaN</td>\n",
       "      <td>гипопластичен</td>\n",
       "      <td>NaN</td>\n",
       "      <td>NaN</td>\n",
       "      <td>NaN</td>\n",
       "      <td>NaN</td>\n",
       "      <td>NaN</td>\n",
       "      <td>NaN</td>\n",
       "      <td>Диск зрительного нерва деформирован тракционно...</td>\n",
       "      <td>NaN</td>\n",
       "      <td>NaN</td>\n",
       "      <td>NaN</td>\n",
       "      <td>NaN</td>\n",
       "      <td>NaN</td>\n",
       "      <td>NaN</td>\n",
       "      <td>NaN</td>\n",
       "      <td>NaN</td>\n",
       "      <td>NaN</td>\n",
       "      <td>NaN</td>\n",
       "      <td>NaN</td>\n",
       "      <td>NaN</td>\n",
       "      <td>NaN</td>\n",
       "      <td>Описывается аваскулярная сетчатка с перераспре...</td>\n",
       "      <td>NaN</td>\n",
       "      <td>NaN</td>\n",
       "      <td>ДЗН бледный, гипопластичен, тракционно деформи...</td>\n",
       "    </tr>\n",
       "  </tbody>\n",
       "</table>\n",
       "</div>"
      ],
      "text/plain": [
       "   is_valid  ...                                               text\n",
       "0      True  ...  ДЗН бледно-розовый, границы четкие, ход и кали...\n",
       "1      True  ...  За флером: границы ДЗН нечеткие, сосуды расшир...\n",
       "2      True  ...  ДЗН бледно-розовый, с четкими границами, ход и...\n",
       "3      True  ...  ДЗН бледно-розовый, границы четкие, артерии не...\n",
       "4      True  ...  ДЗН бледный, гипопластичен, тракционно деформи...\n",
       "\n",
       "[5 rows x 28 columns]"
      ]
     },
     "execution_count": 3,
     "metadata": {},
     "output_type": "execute_result"
    }
   ],
   "source": [
    "df_none2 = pd.read_csv('/home/jupyter/datasphere/project/df_none2.csv')\n",
    "df_none2.head()"
   ]
  },
  {
   "cell_type": "markdown",
   "id": "bd861320-ee7d-4c4e-8e95-4bf046ac8f62",
   "metadata": {},
   "source": [
    "Перевод датафрейма в набор JSON-ов"
   ]
  },
  {
   "cell_type": "code",
   "execution_count": 4,
   "id": "a87fd81e-7a80-4655-a3a4-2a52ff2a320e",
   "metadata": {
    "execution": {
     "iopub.execute_input": "2025-02-26T14:46:34.686732Z",
     "iopub.status.busy": "2025-02-26T14:46:34.685482Z",
     "iopub.status.idle": "2025-02-26T14:46:34.732212Z",
     "shell.execute_reply": "2025-02-26T14:46:34.731362Z",
     "shell.execute_reply.started": "2025-02-26T14:46:34.686690Z"
    },
    "tags": []
   },
   "outputs": [],
   "source": [
    "import pandas as pd\n",
    "import json\n",
    "\n",
    "def transform_row_to_json(row):\n",
    "    return ({\n",
    "        \"ДЗН\": {\n",
    "            \"Цвет\": row[\"od_color\"],\n",
    "            \"Монотонность\": bool(row[\"od_monotone\"]),\n",
    "            \"Размер\": row[\"od_size\"],\n",
    "            \"Форма\": row[\"od_shape\"],\n",
    "            \"Границы\": row[\"od_border\"],\n",
    "            \"Экскавация\": {\n",
    "                \"Размер\": row[\"od_excavation_size\"],\n",
    "                \"Сектор\": row[\"od_excavation_location\"]\n",
    "            },\n",
    "            \"Э/Д\": row[\"od_excavation_ratio\"],\n",
    "            \"Сосудистый пучок\": row[\"od_vessels_location\"],\n",
    "            \"Патология\": row[\"od_pathology\"] or \"\"\n",
    "        },\n",
    "        \"Сосуды\": {\n",
    "            \"Артерии\": {\n",
    "                \"Ход\": row[\"vessels_art_course\"],\n",
    "                \"Извитость\": row[\"vessels_art_turtuosity\"],\n",
    "                \"Бифуркация\": row[\"vessels_art_bifurcation\"],\n",
    "                \"Калибр\": row[\"vessels_art_caliber\"]\n",
    "            },\n",
    "            \"Вены\": {\n",
    "                \"Ход\": row[\"vessels_vein_course\"],\n",
    "                \"Извитость\": row[\"vessels_vein_turtuosity\"],\n",
    "                \"Бифуркация\": row[\"vessels_vein_bifurcation\"],\n",
    "                \"Калибр\": row[\"vessels_vein_caliber\"]\n",
    "            },\n",
    "            \"А/В индекс\": row[\"vessels_ratio\"],\n",
    "            \"Патология\": row[\"vessels_pathology\"] or \"\"\n",
    "        },\n",
    "        \"Макула\": {\n",
    "            \"Макулярный рефлекс\": row[\"macula_macular_reflex\"],\n",
    "            \"Фовеальный рефлекс\": row[\"macula_foveal_reflex\"],\n",
    "            \"Патология\": row[\"macula_pathology\"] or \"\"\n",
    "        },\n",
    "        \"Периферия\": {\n",
    "            \"Патология\": row[\"peripheral_pathology\"] or \"\"\n",
    "        },\n",
    "        \"Другое\": {\n",
    "            \"Диагноз\": row[\"other_diagnosis\"] or \"\",\n",
    "            \"Пометки\": row[\"other_notes\"] or \"\"\n",
    "        }\n",
    "    }, row['text'])\n",
    "\n",
    "def dataframe_to_json(df):\n",
    "    return df.apply(transform_row_to_json, axis=1).tolist()"
   ]
  },
  {
   "cell_type": "code",
   "execution_count": 5,
   "id": "22c73066-22bd-4862-9f80-4d6511651c4f",
   "metadata": {
    "execution": {
     "iopub.execute_input": "2025-02-26T14:46:36.268084Z",
     "iopub.status.busy": "2025-02-26T14:46:36.267285Z",
     "iopub.status.idle": "2025-02-26T14:46:36.368335Z",
     "shell.execute_reply": "2025-02-26T14:46:36.367492Z",
     "shell.execute_reply.started": "2025-02-26T14:46:36.268043Z"
    },
    "tags": []
   },
   "outputs": [],
   "source": [
    "json_array = dataframe_to_json(df_none2)"
   ]
  },
  {
   "cell_type": "code",
   "execution_count": 6,
   "id": "9b41e7b0-fd8e-4382-a8a2-3bf222b7cba3",
   "metadata": {
    "execution": {
     "iopub.execute_input": "2025-02-26T14:46:37.903377Z",
     "iopub.status.busy": "2025-02-26T14:46:37.902423Z",
     "iopub.status.idle": "2025-02-26T14:46:37.935507Z",
     "shell.execute_reply": "2025-02-26T14:46:37.934578Z",
     "shell.execute_reply.started": "2025-02-26T14:46:37.903336Z"
    },
    "tags": []
   },
   "outputs": [
    {
     "data": {
      "text/plain": [
       "'ДЗН-бледно-розовый,проминирует, границы размыты, ход и калибр сосудов не нарушен, макула по возрасту, очаговых симптомов нет'"
      ]
     },
     "execution_count": 6,
     "metadata": {},
     "output_type": "execute_result"
    }
   ],
   "source": [
    "json_array[7][1]"
   ]
  },
  {
   "cell_type": "code",
   "execution_count": 17,
   "id": "ce92051f-6361-45e0-abe3-87a861d1b1de",
   "metadata": {
    "execution": {
     "iopub.execute_input": "2025-02-26T14:54:49.033893Z",
     "iopub.status.busy": "2025-02-26T14:54:49.032953Z",
     "iopub.status.idle": "2025-02-26T14:54:49.047681Z",
     "shell.execute_reply": "2025-02-26T14:54:49.046943Z",
     "shell.execute_reply.started": "2025-02-26T14:54:49.033852Z"
    },
    "tags": []
   },
   "outputs": [
    {
     "data": {
      "text/plain": [
       "({'ДЗН': {'Цвет': 'бледно-розовый',\n",
       "   'Монотонность': True,\n",
       "   'Размер': nan,\n",
       "   'Форма': nan,\n",
       "   'Границы': 'четкие',\n",
       "   'Экскавация': {'Размер': nan, 'Сектор': nan},\n",
       "   'Э/Д': nan,\n",
       "   'Сосудистый пучок': nan,\n",
       "   'Патология': nan},\n",
       "  'Сосуды': {'Артерии': {'Ход': nan,\n",
       "    'Извитость': nan,\n",
       "    'Бифуркация': nan,\n",
       "    'Калибр': 'нормальный'},\n",
       "   'Вены': {'Ход': nan,\n",
       "    'Извитость': 'Nonde',\n",
       "    'Бифуркация': nan,\n",
       "    'Калибр': 'нормальный'},\n",
       "   'А/В индекс': nan,\n",
       "   'Патология': nan},\n",
       "  'Макула': {'Макулярный рефлекс': nan,\n",
       "   'Фовеальный рефлекс': nan,\n",
       "   'Патология': nan},\n",
       "  'Периферия': {'Патология': 'без особенностей'},\n",
       "  'Другое': {'Диагноз': nan, 'Пометки': nan}},\n",
       " 'ДЗН - бледно-розовый, границы четкие, калибр сосудов не изменен, перефирия без особенностей')"
      ]
     },
     "execution_count": 17,
     "metadata": {},
     "output_type": "execute_result"
    }
   ],
   "source": [
    "json_array[14]"
   ]
  },
  {
   "cell_type": "code",
   "execution_count": 18,
   "id": "f206bbd6-4a7d-4b1b-8db0-7d0c4be451a1",
   "metadata": {
    "execution": {
     "iopub.execute_input": "2025-02-26T14:57:10.591664Z",
     "iopub.status.busy": "2025-02-26T14:57:10.590702Z",
     "iopub.status.idle": "2025-02-26T14:57:10.637069Z",
     "shell.execute_reply": "2025-02-26T14:57:10.636239Z",
     "shell.execute_reply.started": "2025-02-26T14:57:10.591624Z"
    }
   },
   "outputs": [],
   "source": [
    "df_fundus_descr = pd.read_csv('/home/jupyter/datasphere/project/fundus_descriptions_1020.csv')"
   ]
  },
  {
   "cell_type": "code",
   "execution_count": 24,
   "id": "c670d382-e4d6-4051-9019-cd2210f446f2",
   "metadata": {
    "execution": {
     "iopub.execute_input": "2025-02-26T14:58:30.846095Z",
     "iopub.status.busy": "2025-02-26T14:58:30.845054Z",
     "iopub.status.idle": "2025-02-26T14:58:30.913749Z",
     "shell.execute_reply": "2025-02-26T14:58:30.912921Z",
     "shell.execute_reply.started": "2025-02-26T14:58:30.846034Z"
    },
    "tags": []
   },
   "outputs": [
    {
     "data": {
      "text/html": [
       "<div>\n",
       "<style scoped>\n",
       "    .dataframe tbody tr th:only-of-type {\n",
       "        vertical-align: middle;\n",
       "    }\n",
       "\n",
       "    .dataframe tbody tr th {\n",
       "        vertical-align: top;\n",
       "    }\n",
       "\n",
       "    .dataframe thead th {\n",
       "        text-align: right;\n",
       "    }\n",
       "</style>\n",
       "<table border=\"1\" class=\"dataframe\">\n",
       "  <thead>\n",
       "    <tr style=\"text-align: right;\">\n",
       "      <th></th>\n",
       "      <th>is_valid</th>\n",
       "      <th>od_color</th>\n",
       "      <th>od_monotone</th>\n",
       "      <th>od_size</th>\n",
       "      <th>od_shape</th>\n",
       "      <th>od_border</th>\n",
       "      <th>od_excavation_size</th>\n",
       "      <th>od_excavation_location</th>\n",
       "      <th>od_excavation_ratio</th>\n",
       "      <th>od_vessels_location</th>\n",
       "      <th>od_pathology</th>\n",
       "      <th>vessels_art_course</th>\n",
       "      <th>vessels_art_turtuosity</th>\n",
       "      <th>vessels_art_bifurcation</th>\n",
       "      <th>vessels_art_caliber</th>\n",
       "      <th>vessels_vein_course</th>\n",
       "      <th>vessels_vein_turtuosity</th>\n",
       "      <th>vessels_vein_bifurcation</th>\n",
       "      <th>vessels_vein_caliber</th>\n",
       "      <th>vessels_ratio</th>\n",
       "      <th>vessels_pathology</th>\n",
       "      <th>macula_macular_reflex</th>\n",
       "      <th>macula_foveal_reflex</th>\n",
       "      <th>macula_pathology</th>\n",
       "      <th>peripheral_pathology</th>\n",
       "      <th>other_diagnosis</th>\n",
       "      <th>other_notes</th>\n",
       "      <th>text</th>\n",
       "    </tr>\n",
       "  </thead>\n",
       "  <tbody>\n",
       "    <tr>\n",
       "      <th>17</th>\n",
       "      <td>True</td>\n",
       "      <td>бледно-розовый</td>\n",
       "      <td>True</td>\n",
       "      <td>нормальный</td>\n",
       "      <td>правильная</td>\n",
       "      <td>четкие</td>\n",
       "      <td>нормальный</td>\n",
       "      <td>в центре</td>\n",
       "      <td>NaN</td>\n",
       "      <td>в центре</td>\n",
       "      <td>NaN</td>\n",
       "      <td>нормальный</td>\n",
       "      <td>нормальная</td>\n",
       "      <td>нормальная</td>\n",
       "      <td>нормальный</td>\n",
       "      <td>нормальный</td>\n",
       "      <td>нормальная</td>\n",
       "      <td>нормальная</td>\n",
       "      <td>нормальный</td>\n",
       "      <td>NaN</td>\n",
       "      <td>NaN</td>\n",
       "      <td>нормальный</td>\n",
       "      <td>нормальный</td>\n",
       "      <td>NaN</td>\n",
       "      <td>без особенностей</td>\n",
       "      <td>NaN</td>\n",
       "      <td>NaN</td>\n",
       "      <td>ДЗН - бледно-розовый, границы четкие, калибр с...</td>\n",
       "    </tr>\n",
       "  </tbody>\n",
       "</table>\n",
       "</div>"
      ],
      "text/plain": [
       "    is_valid  ...                                               text\n",
       "17      True  ...  ДЗН - бледно-розовый, границы четкие, калибр с...\n",
       "\n",
       "[1 rows x 28 columns]"
      ]
     },
     "execution_count": 24,
     "metadata": {},
     "output_type": "execute_result"
    }
   ],
   "source": [
    "df_fundus_descr[df_fundus_descr['text']=='ДЗН - бледно-розовый, границы четкие, калибр сосудов не изменен, перефирия без особенностей']"
   ]
  },
  {
   "cell_type": "code",
   "execution_count": 21,
   "id": "1d575985-274e-46eb-9d23-521490575c93",
   "metadata": {
    "execution": {
     "iopub.execute_input": "2025-02-26T14:57:46.129268Z",
     "iopub.status.busy": "2025-02-26T14:57:46.128169Z",
     "iopub.status.idle": "2025-02-26T14:57:46.204575Z",
     "shell.execute_reply": "2025-02-26T14:57:46.203815Z",
     "shell.execute_reply.started": "2025-02-26T14:57:46.129231Z"
    },
    "tags": []
   },
   "outputs": [],
   "source": [
    "fundus_json = dataframe_to_json(df_fundus_descr) "
   ]
  },
  {
   "cell_type": "code",
   "execution_count": 25,
   "id": "7619a06e-40c9-4820-920e-af04dfe1ebe7",
   "metadata": {
    "execution": {
     "iopub.execute_input": "2025-02-26T14:58:35.966558Z",
     "iopub.status.busy": "2025-02-26T14:58:35.965206Z",
     "iopub.status.idle": "2025-02-26T14:58:36.025093Z",
     "shell.execute_reply": "2025-02-26T14:58:36.024322Z",
     "shell.execute_reply.started": "2025-02-26T14:58:35.966504Z"
    },
    "tags": []
   },
   "outputs": [
    {
     "data": {
      "text/plain": [
       "({'ДЗН': {'Цвет': 'бледно-розовый',\n",
       "   'Монотонность': True,\n",
       "   'Размер': 'нормальный',\n",
       "   'Форма': 'правильная',\n",
       "   'Границы': 'четкие',\n",
       "   'Экскавация': {'Размер': 'нормальный', 'Сектор': 'в центре'},\n",
       "   'Э/Д': nan,\n",
       "   'Сосудистый пучок': 'в центре',\n",
       "   'Патология': nan},\n",
       "  'Сосуды': {'Артерии': {'Ход': 'нормальный',\n",
       "    'Извитость': 'нормальная',\n",
       "    'Бифуркация': 'нормальная',\n",
       "    'Калибр': 'нормальный'},\n",
       "   'Вены': {'Ход': 'нормальный',\n",
       "    'Извитость': 'нормальная',\n",
       "    'Бифуркация': 'нормальная',\n",
       "    'Калибр': 'нормальный'},\n",
       "   'А/В индекс': nan,\n",
       "   'Патология': nan},\n",
       "  'Макула': {'Макулярный рефлекс': 'нормальный',\n",
       "   'Фовеальный рефлекс': 'нормальный',\n",
       "   'Патология': nan},\n",
       "  'Периферия': {'Патология': 'без особенностей'},\n",
       "  'Другое': {'Диагноз': nan, 'Пометки': nan}},\n",
       " 'ДЗН - бледно-розовый, границы четкие, калибр сосудов не изменен, перефирия без особенностей')"
      ]
     },
     "execution_count": 25,
     "metadata": {},
     "output_type": "execute_result"
    }
   ],
   "source": [
    "fundus_json[17]"
   ]
  },
  {
   "cell_type": "code",
   "execution_count": null,
   "id": "372177a0-afc8-473c-85ca-4bcaf369ee66",
   "metadata": {},
   "outputs": [],
   "source": []
  }
 ],
 "metadata": {
  "kernelspec": {
   "display_name": "DataSphere Kernel",
   "language": "python",
   "name": "python3"
  },
  "language_info": {
   "codemirror_mode": {
    "name": "ipython",
    "version": 3
   },
   "file_extension": ".py",
   "mimetype": "text/x-python",
   "name": "python",
   "nbconvert_exporter": "python",
   "pygments_lexer": "ipython3",
   "version": "3.10.12"
  }
 },
 "nbformat": 4,
 "nbformat_minor": 5
}
